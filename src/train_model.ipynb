{
 "cells": [
  {
   "cell_type": "code",
   "execution_count": 49,
   "metadata": {},
   "outputs": [],
   "source": [
    "# 1️⃣ Import Library yang Diperlukan\n",
    "import tensorflow as tf\n",
    "import numpy as np\n",
    "import matplotlib.pyplot as plt\n",
    "import os\n",
    "\n",
    "from tensorflow.keras.applications import EfficientNetV2S\n",
    "from tensorflow.keras.applications.efficientnet_v2 import preprocess_input\n",
    "from tensorflow.keras import layers, models\n",
    "from tensorflow.keras.layers import RandomFlip, RandomRotation, RandomZoom"
   ]
  },
  {
   "cell_type": "code",
   "execution_count": 50,
   "metadata": {},
   "outputs": [],
   "source": [
    "# 2️⃣ Konfigurasi Dataset & Parameter\n",
    "DATASET_PATH = r\"D:\\Skripsi\\sc\\dataset_split\"   # Sesuaikan dengan path dataset Anda\n",
    "IMG_SIZE = (224, 224)\n",
    "BATCH_SIZE = 32\n",
    "AUTOTUNE = tf.data.AUTOTUNE"
   ]
  },
  {
   "cell_type": "code",
   "execution_count": 51,
   "metadata": {},
   "outputs": [],
   "source": [
    "# 3️⃣ Definisikan Pipeline Augmentasi Data (Hanya untuk training)\n",
    "data_augmentation = tf.keras.Sequential([\n",
    "    RandomFlip(\"horizontal\"),\n",
    "    RandomRotation(0.2),\n",
    "    RandomZoom(0.2)\n",
    "], name=\"data_augmentation\")"
   ]
  },
  {
   "cell_type": "code",
   "execution_count": 52,
   "metadata": {},
   "outputs": [
    {
     "name": "stdout",
     "output_type": "stream",
     "text": [
      "Found 5208 files belonging to 31 classes.\n"
     ]
    }
   ],
   "source": [
    "# 4️⃣ Memuat Dataset Training menggunakan image_dataset_from_directory\n",
    "dataset_train = tf.keras.utils.image_dataset_from_directory(\n",
    "    os.path.join(DATASET_PATH, \"train\"),\n",
    "    image_size=IMG_SIZE,\n",
    "    batch_size=BATCH_SIZE,\n",
    "    label_mode=\"categorical\"\n",
    ")"
   ]
  },
  {
   "cell_type": "code",
   "execution_count": 53,
   "metadata": {},
   "outputs": [
    {
     "name": "stdout",
     "output_type": "stream",
     "text": [
      "Found 1302 files belonging to 31 classes.\n"
     ]
    }
   ],
   "source": [
    "# 5️⃣ Memuat Dataset Validasi\n",
    "dataset_val = tf.keras.utils.image_dataset_from_directory(\n",
    "    os.path.join(DATASET_PATH, \"val\"),\n",
    "    image_size=IMG_SIZE,\n",
    "    batch_size=BATCH_SIZE,\n",
    "    label_mode=\"categorical\"\n",
    ")"
   ]
  },
  {
   "cell_type": "code",
   "execution_count": 54,
   "metadata": {},
   "outputs": [
    {
     "name": "stdout",
     "output_type": "stream",
     "text": [
      "Jumlah kelas: 31\n"
     ]
    }
   ],
   "source": [
    "# 6️⃣ Ambil Informasi Jumlah Kelas\n",
    "num_classes = len(dataset_train.class_names)\n",
    "print(f\"Jumlah kelas: {num_classes}\")"
   ]
  },
  {
   "cell_type": "code",
   "execution_count": 55,
   "metadata": {},
   "outputs": [],
   "source": [
    "# 7️⃣ Terapkan Augmentasi dan Preprocessing\n",
    "# Preprocessing dilakukan dengan fungsi preprocess_input sesuai model EfficientNetV2-S\n",
    "# Augmentasi hanya diterapkan pada dataset training\n",
    "dataset_train = dataset_train.map(\n",
    "    lambda x, y: (data_augmentation(preprocess_input(x), training=True), y),\n",
    "    num_parallel_calls=AUTOTUNE\n",
    ")\n",
    "dataset_val = dataset_val.map(\n",
    "    lambda x, y: (preprocess_input(x), y),\n",
    "    num_parallel_calls=AUTOTUNE\n",
    ")"
   ]
  },
  {
   "cell_type": "code",
   "execution_count": 56,
   "metadata": {},
   "outputs": [],
   "source": [
    "# 8️⃣ Optimasi Performa dengan Prefetch\n",
    "dataset_train = dataset_train.prefetch(AUTOTUNE)\n",
    "dataset_val = dataset_val.prefetch(AUTOTUNE)"
   ]
  },
  {
   "cell_type": "code",
   "execution_count": 57,
   "metadata": {},
   "outputs": [],
   "source": [
    "# 9️⃣ Memuat Base Model EfficientNetV2-S dengan Pretrained Weights dari ImageNet\n",
    "base_model = EfficientNetV2S(input_shape=(224, 224, 3), include_top=False, weights=\"imagenet\")\n"
   ]
  },
  {
   "cell_type": "code",
   "execution_count": 58,
   "metadata": {},
   "outputs": [],
   "source": [
    "# 10️⃣ Fine-tuning: Aktifkan Pelatihan pada Base Model\n",
    "# Anda juga bisa memilih untuk hanya membuka beberapa lapisan teratas saja.\n",
    "base_model.trainable = True\n",
    "\n",
    "# Opsional: untuk fine-tuning bertahap, kita bisa freeze sebagian lapisan awal. Misalnya:\n",
    "# for layer in base_model.layers[:-50]:\n",
    "#     layer.trainable = False"
   ]
  },
  {
   "cell_type": "code",
   "execution_count": 59,
   "metadata": {},
   "outputs": [],
   "source": [
    "# 11️⃣ Membangun Model Lengkap Menggunakan Functional API\n",
    "inputs = tf.keras.Input(shape=(224, 224, 3))\n",
    "x = base_model(inputs, training=True)   # Pastikan forward pass dijalankan dalam mode training\n",
    "x = layers.GlobalAveragePooling2D()(x)\n",
    "x = layers.Dense(256, activation=\"relu\")(x)\n",
    "x = layers.Dropout(0.3)(x)\n",
    "outputs = layers.Dense(num_classes, activation=\"softmax\")(x)\n",
    "model = tf.keras.Model(inputs, outputs)"
   ]
  },
  {
   "cell_type": "code",
   "execution_count": 60,
   "metadata": {},
   "outputs": [],
   "source": [
    "# 12️⃣ Compile Model dengan Optimizer Adam dan Learning Rate 0.0005\n",
    "model.compile(\n",
    "    optimizer=tf.keras.optimizers.Adam(learning_rate=0.0005),\n",
    "    loss=\"categorical_crossentropy\",\n",
    "    metrics=[\"accuracy\"]\n",
    ")"
   ]
  },
  {
   "cell_type": "code",
   "execution_count": 61,
   "metadata": {},
   "outputs": [
    {
     "name": "stdout",
     "output_type": "stream",
     "text": [
      "Epoch 1/15\n",
      "\u001b[1m163/163\u001b[0m \u001b[32m━━━━━━━━━━━━━━━━━━━━\u001b[0m\u001b[37m\u001b[0m \u001b[1m1619s\u001b[0m 9s/step - accuracy: 0.4949 - loss: 1.9066 - val_accuracy: 0.8602 - val_loss: 0.4639\n",
      "Epoch 2/15\n",
      "\u001b[1m163/163\u001b[0m \u001b[32m━━━━━━━━━━━━━━━━━━━━\u001b[0m\u001b[37m\u001b[0m \u001b[1m1512s\u001b[0m 9s/step - accuracy: 0.8318 - loss: 0.5634 - val_accuracy: 0.8879 - val_loss: 0.4411\n",
      "Epoch 3/15\n",
      "\u001b[1m163/163\u001b[0m \u001b[32m━━━━━━━━━━━━━━━━━━━━\u001b[0m\u001b[37m\u001b[0m \u001b[1m1503s\u001b[0m 9s/step - accuracy: 0.8778 - loss: 0.4174 - val_accuracy: 0.9048 - val_loss: 0.3350\n",
      "Epoch 4/15\n",
      "\u001b[1m163/163\u001b[0m \u001b[32m━━━━━━━━━━━━━━━━━━━━\u001b[0m\u001b[37m\u001b[0m \u001b[1m1527s\u001b[0m 9s/step - accuracy: 0.9003 - loss: 0.3151 - val_accuracy: 0.9040 - val_loss: 0.3400\n",
      "Epoch 5/15\n",
      "\u001b[1m163/163\u001b[0m \u001b[32m━━━━━━━━━━━━━━━━━━━━\u001b[0m\u001b[37m\u001b[0m \u001b[1m1505s\u001b[0m 9s/step - accuracy: 0.9263 - loss: 0.2688 - val_accuracy: 0.8994 - val_loss: 0.3471\n",
      "Epoch 6/15\n",
      "\u001b[1m163/163\u001b[0m \u001b[32m━━━━━━━━━━━━━━━━━━━━\u001b[0m\u001b[37m\u001b[0m \u001b[1m1496s\u001b[0m 9s/step - accuracy: 0.9293 - loss: 0.2474 - val_accuracy: 0.9094 - val_loss: 0.3128\n",
      "Epoch 7/15\n",
      "\u001b[1m163/163\u001b[0m \u001b[32m━━━━━━━━━━━━━━━━━━━━\u001b[0m\u001b[37m\u001b[0m \u001b[1m1389s\u001b[0m 9s/step - accuracy: 0.9349 - loss: 0.2172 - val_accuracy: 0.9278 - val_loss: 0.2649\n",
      "Epoch 8/15\n",
      "\u001b[1m163/163\u001b[0m \u001b[32m━━━━━━━━━━━━━━━━━━━━\u001b[0m\u001b[37m\u001b[0m \u001b[1m1397s\u001b[0m 8s/step - accuracy: 0.9350 - loss: 0.1944 - val_accuracy: 0.9132 - val_loss: 0.3045\n",
      "Epoch 9/15\n",
      "\u001b[1m163/163\u001b[0m \u001b[32m━━━━━━━━━━━━━━━━━━━━\u001b[0m\u001b[37m\u001b[0m \u001b[1m1388s\u001b[0m 9s/step - accuracy: 0.9443 - loss: 0.2029 - val_accuracy: 0.9263 - val_loss: 0.2918\n",
      "Epoch 10/15\n",
      "\u001b[1m163/163\u001b[0m \u001b[32m━━━━━━━━━━━━━━━━━━━━\u001b[0m\u001b[37m\u001b[0m \u001b[1m1382s\u001b[0m 8s/step - accuracy: 0.9472 - loss: 0.1737 - val_accuracy: 0.9171 - val_loss: 0.3424\n",
      "Epoch 11/15\n",
      "\u001b[1m163/163\u001b[0m \u001b[32m━━━━━━━━━━━━━━━━━━━━\u001b[0m\u001b[37m\u001b[0m \u001b[1m1385s\u001b[0m 8s/step - accuracy: 0.9474 - loss: 0.1702 - val_accuracy: 0.9432 - val_loss: 0.2314\n",
      "Epoch 12/15\n",
      "\u001b[1m163/163\u001b[0m \u001b[32m━━━━━━━━━━━━━━━━━━━━\u001b[0m\u001b[37m\u001b[0m \u001b[1m1389s\u001b[0m 9s/step - accuracy: 0.9535 - loss: 0.1433 - val_accuracy: 0.9378 - val_loss: 0.2719\n",
      "Epoch 13/15\n",
      "\u001b[1m163/163\u001b[0m \u001b[32m━━━━━━━━━━━━━━━━━━━━\u001b[0m\u001b[37m\u001b[0m \u001b[1m1384s\u001b[0m 8s/step - accuracy: 0.9546 - loss: 0.1556 - val_accuracy: 0.9101 - val_loss: 0.3287\n",
      "Epoch 14/15\n",
      "\u001b[1m163/163\u001b[0m \u001b[32m━━━━━━━━━━━━━━━━━━━━\u001b[0m\u001b[37m\u001b[0m \u001b[1m1386s\u001b[0m 8s/step - accuracy: 0.9621 - loss: 0.1229 - val_accuracy: 0.9293 - val_loss: 0.2988\n",
      "Epoch 15/15\n",
      "\u001b[1m163/163\u001b[0m \u001b[32m━━━━━━━━━━━━━━━━━━━━\u001b[0m\u001b[37m\u001b[0m \u001b[1m1382s\u001b[0m 8s/step - accuracy: 0.9623 - loss: 0.1249 - val_accuracy: 0.8986 - val_loss: 0.4051\n"
     ]
    }
   ],
   "source": [
    "# 13️⃣ Training Model Selama 30 Epoch\n",
    "history = model.fit(\n",
    "    dataset_train,\n",
    "    validation_data=dataset_val,\n",
    "    epochs=15\n",
    ")"
   ]
  },
  {
   "cell_type": "code",
   "execution_count": 62,
   "metadata": {},
   "outputs": [
    {
     "name": "stdout",
     "output_type": "stream",
     "text": [
      "✅ Model telah disimpan!\n"
     ]
    }
   ],
   "source": [
    "# 14️⃣ Simpan Model dalam Format .keras\n",
    "model.save(\"D:\\Skripsi\\scv2\\models\\efficientnetv2_rempahindo.keras\")\n",
    "print(\"✅ Model telah disimpan!\")"
   ]
  },
  {
   "cell_type": "code",
   "execution_count": 63,
   "metadata": {},
   "outputs": [
    {
     "data": {
      "image/png": "[encoded data removed]",
      "text/plain": [
       "<Figure size 800x400 with 1 Axes>"
      ]
     },
     "metadata": {},
     "output_type": "display_data"
    }
   ],
   "source": [
    "# 15️⃣ Visualisasi Grafik Akurasi Training dan Validasi\n",
    "plt.figure(figsize=(8, 4))\n",
    "plt.plot(history.history[\"accuracy\"], label=\"Train Accuracy\")\n",
    "plt.plot(history.history[\"val_accuracy\"], label=\"Validation Accuracy\")\n",
    "plt.xlabel(\"Epoch\")\n",
    "plt.ylabel(\"Accuracy\")\n",
    "plt.legend()\n",
    "plt.title(\"Performansi Training Model\")\n",
    "plt.show()"
   ]
  }
 ],
 "metadata": {
  "kernelspec": {
   "display_name": "Python 3",
   "language": "python",
   "name": "python3"
  },
  "language_info": {
   "codemirror_mode": {
    "name": "ipython",
    "version": 3
   },
   "file_extension": ".py",
   "mimetype": "text/x-python",
   "name": "python",
   "nbconvert_exporter": "python",
   "pygments_lexer": "ipython3",
   "version": "3.11.3"
  }
 },
 "nbformat": 4,
 "nbformat_minor": 2
}
